{
 "cells": [
  {
   "cell_type": "code",
   "execution_count": 52,
   "metadata": {},
   "outputs": [
    {
     "name": "stderr",
     "output_type": "stream",
     "text": [
      "/usr/local/lib/python3.4/dist-packages/ipykernel_launcher.py:8: RuntimeWarning: invalid value encountered in power\n",
      "  \n"
     ]
    },
    {
     "name": "stdout",
     "output_type": "stream",
     "text": [
      "[ 0.60377975  2.45638636  8.11793392  7.29123036]\n",
      "[ 0.60377975  0.64784729  0.8384281   1.20294104  1.71585878  2.31926709\n",
      "  2.94849085  3.55188958  4.09823481  4.57448022  4.97981998  5.32004725\n",
      "  5.60362913  5.83944577  6.0356907   6.19945378  6.33665785  6.45215473\n",
      "  6.54987754  6.63299938]\n"
     ]
    },
    {
     "data": {
      "image/png": "[encoded data removed]",
      "text/plain": [
       "<matplotlib.figure.Figure at 0x7f7824771048>"
      ]
     },
     "metadata": {},
     "output_type": "display_data"
    }
   ],
   "source": [
    "import numpy as np\n",
    "import numpy.random as npr\n",
    "import matplotlib.pyplot as plt\n",
    "from scipy.optimize import leastsq\n",
    "\n",
    "def logistic4(x, A, B, C, D):\n",
    "    \"\"\"4PL lgoistic equation.\"\"\"\n",
    "    return D + (A-D)/(1. + (x/C)**B)#((A-D)/(1.0+((x/C)**B))) + D\n",
    "\n",
    "def residuals(p, y, x):\n",
    "    \"\"\"Deviations of data from fitted 4PL curve\"\"\"\n",
    "    A,B,C,D = p\n",
    "    #print(A, B, C, D, p)\n",
    "    err = y-logistic4(x, A, B, C, D)\n",
    "    #print(err)\n",
    "    return err\n",
    "\n",
    "def peval(x, p):\n",
    "    \"\"\"Evaluated value at x with current parameters.\"\"\"\n",
    "    A,B,C,D = p\n",
    "    return logistic4(x, A, B, C, D)\n",
    "\n",
    "# Make up some data for fitting and add noise\n",
    "# In practice, y_meas would be read in from a file\n",
    "x = np.linspace(0.001,20,20)\n",
    "A,B,C,D = 0.5,2.5,8,7.3\n",
    "y_true = logistic4(x, A, B, C, D)\n",
    "y_meas = y_true + 0.2*npr.randn(len(x))\n",
    "#print(y_meas)\n",
    "#print(x)\n",
    "\n",
    "# Initial guess for parameters\n",
    "p0 = [.1, .1, .1, .1]\n",
    "\n",
    "#print(p0, y_meas, x)\n",
    "\n",
    "# Fit equation using least squares optimization\n",
    "plsq = leastsq(residuals, p0, args=(y_meas, x))\n",
    "print(plsq[0])\n",
    "print(peval(x, plsq[0]))\n",
    "\n",
    "#print(residuals)\n",
    "\n",
    "# Plot results\n",
    "plt.plot(x,peval(x,plsq[0]),x,y_meas,'o',x,y_true)\n",
    "plt.title('Least-squares 4PL fit to noisy data')\n",
    "plt.legend(['Fit', 'Noisy', 'True'], loc='upper left')\n",
    "for i, (param, actual, est) in enumerate(zip('ABCD', [A,B,C,D], plsq[0])):\n",
    "    plt.text(10, 3-i*0.5, '%s = %.2f, est(%s) = %.2f' % (param, actual, param, est))\n",
    "plt.savefig('logistic.png')"
   ]
  },
  {
   "cell_type": "code",
   "execution_count": 31,
   "metadata": {},
   "outputs": [
    {
     "name": "stdout",
     "output_type": "stream",
     "text": [
      "[  4.87564667e-02   1.15527847e+00   1.59016895e+02   2.39218101e+00]\n"
     ]
    }
   ],
   "source": [
    "x_val = [0.001, 13, 52, 210, 840]\n",
    "y_val = [0.047, 0.175, 0.552, 1.408, 2.093]\n",
    "\n",
    "plsq = leastsq(residuals, p0, args=(y_val, x_val))\n",
    "\n",
    "print(plsq[0])\n",
    "               \n"
   ]
  },
  {
   "cell_type": "code",
   "execution_count": 32,
   "metadata": {},
   "outputs": [],
   "source": [
    "t = 1, 2, 3, 4"
   ]
  },
  {
   "cell_type": "code",
   "execution_count": 2,
   "metadata": {},
   "outputs": [],
   "source": [
    "q, w, e, r = t"
   ]
  },
  {
   "cell_type": "code",
   "execution_count": 3,
   "metadata": {},
   "outputs": [
    {
     "name": "stdout",
     "output_type": "stream",
     "text": [
      "1 2 3 4\n"
     ]
    }
   ],
   "source": [
    "print(q, w, e, r)"
   ]
  },
  {
   "cell_type": "code",
   "execution_count": null,
   "metadata": {},
   "outputs": [],
   "source": []
  }
 ],
 "metadata": {
  "kernelspec": {
   "display_name": "Python 3",
   "language": "python",
   "name": "python3"
  },
  "language_info": {
   "codemirror_mode": {
    "name": "ipython",
    "version": 3
   },
   "file_extension": ".py",
   "mimetype": "text/x-python",
   "name": "python",
   "nbconvert_exporter": "python",
   "pygments_lexer": "ipython3",
   "version": "3.4.3"
  }
 },
 "nbformat": 4,
 "nbformat_minor": 2
}
